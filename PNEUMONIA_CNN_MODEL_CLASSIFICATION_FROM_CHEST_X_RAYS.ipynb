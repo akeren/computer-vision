{
  "cells": [
    {
      "cell_type": "markdown",
      "metadata": {
        "id": "view-in-github",
        "colab_type": "text"
      },
      "source": [
        "<a href=\"https://colab.research.google.com/github/akeren/computer-vision/blob/main/PNEUMONIA_CNN_MODEL_CLASSIFICATION_FROM_CHEST_X_RAYS.ipynb\" target=\"_parent\"><img src=\"https://colab.research.google.com/assets/colab-badge.svg\" alt=\"Open In Colab\"/></a>"
      ]
    },
    {
      "cell_type": "markdown",
      "source": [
        "# PNEUMONIA CLASSIFICIATION MODEL USING CHEST X-RAYS IMAGES\n",
        "\n",
        "> Add blockquote\n",
        "\n"
      ],
      "metadata": {
        "id": "20vNf0iazn2k"
      }
    },
    {
      "cell_type": "markdown",
      "metadata": {
        "id": "QQtC2krSS4WR"
      },
      "source": [
        "# Import Libraries"
      ]
    },
    {
      "cell_type": "code",
      "execution_count": null,
      "metadata": {
        "id": "KdejrVuMS6Ip"
      },
      "outputs": [],
      "source": [
        "from keras.models import Sequential\n",
        "from keras.layers import Conv2D, MaxPooling2D, Flatten, Dense, Dropout\n",
        "from keras.regularizers import l2\n",
        "from keras.preprocessing.image import ImageDataGenerator\n",
        "from keras.callbacks import EarlyStopping, ReduceLROnPlateau\n",
        "from sklearn.utils.class_weight import compute_sample_weight\n",
        "from sklearn.metrics import classification_report\n",
        "from imblearn.over_sampling import RandomOverSampler\n",
        "import numpy as np\n",
        "import matplotlib.pyplot as plt\n",
        "import pandas as pd\n",
        "import os"
      ]
    },
    {
      "cell_type": "markdown",
      "metadata": {
        "id": "77-DYKWuirBD"
      },
      "source": [
        "# Keras Version"
      ]
    },
    {
      "cell_type": "code",
      "execution_count": null,
      "metadata": {
        "id": "dIuLiol0iyza",
        "colab": {
          "base_uri": "https://localhost:8080/"
        },
        "outputId": "07cafdb3-4c09-489f-f63e-0947d884d625"
      },
      "outputs": [
        {
          "output_type": "stream",
          "name": "stdout",
          "text": [
            "2.15.0\n"
          ]
        }
      ],
      "source": [
        "import keras\n",
        "\n",
        "print(keras.__version__)"
      ]
    },
    {
      "cell_type": "markdown",
      "metadata": {
        "id": "nNfGGT6ml9g9"
      },
      "source": [
        "# Sklearn Version"
      ]
    },
    {
      "cell_type": "code",
      "execution_count": null,
      "metadata": {
        "id": "OVpXI_UymBzL",
        "colab": {
          "base_uri": "https://localhost:8080/"
        },
        "outputId": "d105621c-eb81-4c9c-c5f5-ce6e48b1c205"
      },
      "outputs": [
        {
          "output_type": "stream",
          "name": "stdout",
          "text": [
            "1.2.2\n"
          ]
        }
      ],
      "source": [
        "import sklearn\n",
        "\n",
        "print(sklearn.__version__)"
      ]
    },
    {
      "cell_type": "markdown",
      "metadata": {
        "id": "Z4spWYLMTRsG"
      },
      "source": [
        "# Define the model with L2 regularization, increased dropout, and an additional Conv2D layer"
      ]
    },
    {
      "cell_type": "code",
      "execution_count": null,
      "metadata": {
        "id": "tLLcowWjTmTZ"
      },
      "outputs": [],
      "source": [
        "model = Sequential()\n",
        "model.add(Conv2D(32, (3, 3), input_shape=(150, 150, 3), activation='relu', kernel_regularizer=l2(0.01)))\n",
        "model.add(MaxPooling2D(pool_size=(2, 2)))\n",
        "model.add(Dropout(0.3))  # Increased dropout\n",
        "\n",
        "model.add(Conv2D(64, (3, 3), activation='relu', kernel_regularizer=l2(0.01)))\n",
        "model.add(MaxPooling2D(pool_size=(2, 2)))\n",
        "model.add(Dropout(0.3))  # Increased dropout\n",
        "\n",
        "model.add(Conv2D(128, (3, 3), activation='relu', kernel_regularizer=l2(0.01)))\n",
        "model.add(MaxPooling2D(pool_size=(2, 2)))\n",
        "model.add(Dropout(0.3))  # Increased dropout\n",
        "\n",
        "model.add(Conv2D(256, (3, 3), activation='relu', kernel_regularizer=l2(0.01)))  # Additional Conv2D layer\n",
        "model.add(MaxPooling2D(pool_size=(2, 2)))\n",
        "model.add(Dropout(0.3))  # Increased dropout\n",
        "\n",
        "model.add(Flatten())\n",
        "model.add(Dense(64, activation='relu', kernel_regularizer=l2(0.01)))\n",
        "model.add(Dropout(0.5))\n",
        "model.add(Dense(1, activation='sigmoid'))"
      ]
    },
    {
      "cell_type": "markdown",
      "metadata": {
        "id": "AnOIAIHkUTyr"
      },
      "source": [
        "# Compile the model"
      ]
    },
    {
      "cell_type": "code",
      "execution_count": null,
      "metadata": {
        "id": "tJeoaeeUUe8E"
      },
      "outputs": [],
      "source": [
        "model.compile(loss='binary_crossentropy',\n",
        "              optimizer='adam',\n",
        "              metrics=['accuracy'])"
      ]
    },
    {
      "cell_type": "markdown",
      "metadata": {
        "id": "yE0KSrudUkl-"
      },
      "source": [
        "# Enhanced data augmentation\n",
        "*   Vertical flip\n",
        "*   Rotation\n",
        "*   Brightness Shift\n",
        "\n"
      ]
    },
    {
      "cell_type": "code",
      "execution_count": null,
      "metadata": {
        "id": "eIsWRA94UvDM"
      },
      "outputs": [],
      "source": [
        "datagen = ImageDataGenerator(\n",
        "    rescale=1. / 255,\n",
        "    shear_range=0.2,\n",
        "    zoom_range=0.2,\n",
        "    horizontal_flip=True,\n",
        "    vertical_flip=True,\n",
        "    rotation_range=20,\n",
        "    brightness_range=[0.8, 1.2])"
      ]
    },
    {
      "cell_type": "markdown",
      "metadata": {
        "id": "sW_0md-1Ve9i"
      },
      "source": [
        "# Define a Batch size"
      ]
    },
    {
      "cell_type": "code",
      "execution_count": null,
      "metadata": {
        "id": "nYYxL1XSWFej"
      },
      "outputs": [],
      "source": [
        "batch_size = 64"
      ]
    },
    {
      "cell_type": "markdown",
      "metadata": {
        "id": "DqCLYnORWMbd"
      },
      "source": [
        "# Training data set generation"
      ]
    },
    {
      "cell_type": "code",
      "execution_count": null,
      "metadata": {
        "id": "VFZfBiAyWWTJ",
        "colab": {
          "base_uri": "https://localhost:8080/"
        },
        "outputId": "f683096e-8f08-4d11-d7cd-4a439b8ab57f"
      },
      "outputs": [
        {
          "output_type": "stream",
          "name": "stdout",
          "text": [
            "Found 12229 images belonging to 2 classes.\n"
          ]
        }
      ],
      "source": [
        "train_generator = datagen.flow_from_directory(\n",
        "    '/content/drive/MyDrive/datasets/chest_xrays/train',\n",
        "    target_size=(150, 150),\n",
        "    batch_size=batch_size,\n",
        "    class_mode='binary')"
      ]
    },
    {
      "cell_type": "markdown",
      "metadata": {
        "id": "tVhpynsEWkX4"
      },
      "source": [
        "# Validation data set generation"
      ]
    },
    {
      "cell_type": "code",
      "execution_count": null,
      "metadata": {
        "id": "nEHpP7noWska",
        "colab": {
          "base_uri": "https://localhost:8080/"
        },
        "outputId": "e8a97de7-f736-45aa-b176-2724cc0eba22"
      },
      "outputs": [
        {
          "output_type": "stream",
          "name": "stdout",
          "text": [
            "Found 1165 images belonging to 2 classes.\n"
          ]
        }
      ],
      "source": [
        "validation_generator = datagen.flow_from_directory(\n",
        "    '/content/drive/MyDrive/datasets/chest_xrays/valid',\n",
        "    target_size=(150, 150),\n",
        "    batch_size=batch_size,\n",
        "    class_mode='binary')"
      ]
    },
    {
      "cell_type": "markdown",
      "metadata": {
        "id": "79LKHa8zW6pe"
      },
      "source": [
        "# Testing data set generation"
      ]
    },
    {
      "cell_type": "code",
      "execution_count": null,
      "metadata": {
        "id": "KNqgQS62XBFi",
        "colab": {
          "base_uri": "https://localhost:8080/"
        },
        "outputId": "ade5466d-3e53-44e7-bd23-437026739c5e"
      },
      "outputs": [
        {
          "output_type": "stream",
          "name": "stdout",
          "text": [
            "Found 582 images belonging to 2 classes.\n"
          ]
        }
      ],
      "source": [
        "test_generator = datagen.flow_from_directory(\n",
        "    '/content/drive/MyDrive/datasets/chest_xrays/test',\n",
        "    target_size=(150, 150),\n",
        "    batch_size=batch_size,\n",
        "    class_mode='binary')"
      ]
    },
    {
      "cell_type": "markdown",
      "metadata": {
        "id": "MPNEUmC-XF8x"
      },
      "source": [
        "# Get the number of samples in the training, validation, and test sets"
      ]
    },
    {
      "cell_type": "code",
      "execution_count": null,
      "metadata": {
        "id": "ywyiilCTXNIC"
      },
      "outputs": [],
      "source": [
        "num_train_samples = train_generator.samples\n",
        "num_val_samples = validation_generator.samples\n",
        "num_test_samples = test_generator.samples"
      ]
    },
    {
      "cell_type": "markdown",
      "metadata": {
        "id": "6kbR-V1_XYox"
      },
      "source": [
        "# Calculate the steps per epoch for the training, validation, and test sets"
      ]
    },
    {
      "cell_type": "code",
      "execution_count": null,
      "metadata": {
        "id": "EHrH03RUYBkE"
      },
      "outputs": [],
      "source": [
        "train_steps_per_epoch = num_train_samples // batch_size if num_train_samples % batch_size == 0 else num_train_samples // batch_size + 1\n",
        "\n",
        "val_steps_per_epoch = num_val_samples // batch_size if num_val_samples % batch_size == 0 else num_val_samples // batch_size + 1\n",
        "\n",
        "test_steps_per_epoch = num_test_samples // batch_size if num_test_samples % batch_size == 0 else num_test_samples // batch_size + 1"
      ]
    },
    {
      "cell_type": "markdown",
      "metadata": {
        "id": "jbj-9Kz9YJRP"
      },
      "source": [
        "# Calculate class weights"
      ]
    },
    {
      "cell_type": "code",
      "execution_count": null,
      "metadata": {
        "id": "j7lKo6CqYfD0"
      },
      "outputs": [],
      "source": [
        "class_weights = compute_sample_weight(class_weight='balanced', y=train_generator.classes)\n",
        "class_weights = dict(zip(np.unique(train_generator.classes), class_weights))"
      ]
    },
    {
      "cell_type": "markdown",
      "metadata": {
        "id": "TwLMrHasZU5O"
      },
      "source": [
        "# Oversampling the minority class\n",
        "- This was an improvement after the first iteration to resolve the issue of data set"
      ]
    },
    {
      "cell_type": "code",
      "execution_count": null,
      "metadata": {
        "id": "55DIPqFmZfo0"
      },
      "outputs": [],
      "source": [
        "ros = RandomOverSampler(random_state=0)\n",
        "X_resampled, y_resampled = ros.fit_resample(np.array(train_generator.classes).reshape(-1, 1), train_generator.classes)\n",
        "class_weights_resampled = compute_sample_weight(class_weight='balanced', y=y_resampled)\n",
        "class_weights_resampled = dict(zip(np.unique(y_resampled), class_weights_resampled))"
      ]
    },
    {
      "cell_type": "markdown",
      "metadata": {
        "id": "BmGEOZF_bacj"
      },
      "source": [
        "# Early stopping"
      ]
    },
    {
      "cell_type": "code",
      "execution_count": null,
      "metadata": {
        "id": "ESQIN0r-bh4Y"
      },
      "outputs": [],
      "source": [
        "early_stopping = EarlyStopping(monitor='val_loss', patience=5, verbose=1)"
      ]
    },
    {
      "cell_type": "markdown",
      "metadata": {
        "id": "CbuwHWAWbkA7"
      },
      "source": [
        "# Learning rate reduction"
      ]
    },
    {
      "cell_type": "code",
      "execution_count": null,
      "metadata": {
        "id": "LoYHYx64b1i8"
      },
      "outputs": [],
      "source": [
        "lr_reduction = ReduceLROnPlateau(monitor='val_loss', patience=5, verbose=1, factor=0.2, min_lr=0.001)"
      ]
    },
    {
      "cell_type": "markdown",
      "metadata": {
        "id": "tpIUrB-Mb637"
      },
      "source": [
        "# Train the model"
      ]
    },
    {
      "cell_type": "code",
      "execution_count": null,
      "metadata": {
        "colab": {
          "base_uri": "https://localhost:8080/"
        },
        "id": "gstptX8DcEiL",
        "outputId": "9dc4308c-1335-42c6-b962-10e47082aa64"
      },
      "outputs": [
        {
          "output_type": "stream",
          "name": "stdout",
          "text": [
            "Epoch 1/10\n",
            "192/192 [==============================] - 2663s 14s/step - loss: 1.8495 - accuracy: 0.7258 - val_loss: 0.6697 - val_accuracy: 0.7391 - lr: 0.0010\n",
            "Epoch 2/10\n",
            "192/192 [==============================] - 110s 575ms/step - loss: 1.1122 - accuracy: 0.7292 - val_loss: 0.6077 - val_accuracy: 0.7391 - lr: 0.0010\n",
            "Epoch 3/10\n",
            "192/192 [==============================] - 109s 566ms/step - loss: 1.0308 - accuracy: 0.7292 - val_loss: 0.6338 - val_accuracy: 0.7391 - lr: 0.0010\n",
            "Epoch 4/10\n",
            "192/192 [==============================] - 114s 591ms/step - loss: 0.9800 - accuracy: 0.7292 - val_loss: 0.5946 - val_accuracy: 0.7391 - lr: 0.0010\n",
            "Epoch 5/10\n",
            "192/192 [==============================] - 111s 579ms/step - loss: 0.9479 - accuracy: 0.7292 - val_loss: 0.4999 - val_accuracy: 0.7391 - lr: 0.0010\n",
            "Epoch 6/10\n",
            "192/192 [==============================] - 110s 574ms/step - loss: 0.9401 - accuracy: 0.7292 - val_loss: 0.4778 - val_accuracy: 0.7391 - lr: 0.0010\n",
            "Epoch 7/10\n",
            "192/192 [==============================] - 111s 577ms/step - loss: 0.9223 - accuracy: 0.7450 - val_loss: 0.4548 - val_accuracy: 0.8627 - lr: 0.0010\n",
            "Epoch 8/10\n",
            "192/192 [==============================] - 109s 569ms/step - loss: 0.9051 - accuracy: 0.8100 - val_loss: 0.4540 - val_accuracy: 0.8635 - lr: 0.0010\n",
            "Epoch 9/10\n",
            "192/192 [==============================] - 109s 569ms/step - loss: 0.8818 - accuracy: 0.8224 - val_loss: 0.4705 - val_accuracy: 0.8858 - lr: 0.0010\n",
            "Epoch 10/10\n",
            "192/192 [==============================] - 110s 574ms/step - loss: 0.8734 - accuracy: 0.8223 - val_loss: 0.4307 - val_accuracy: 0.8953 - lr: 0.0010\n"
          ]
        }
      ],
      "source": [
        "history = model.fit(\n",
        "    train_generator,\n",
        "    steps_per_epoch=train_steps_per_epoch,\n",
        "    epochs=10,\n",
        "    validation_data=validation_generator,\n",
        "    validation_steps=val_steps_per_epoch,\n",
        "    callbacks=[early_stopping, lr_reduction],\n",
        "    class_weight=class_weights)"
      ]
    },
    {
      "cell_type": "markdown",
      "metadata": {
        "id": "1jfL2O16cKao"
      },
      "source": [
        "# Evaluate the model on the test set"
      ]
    },
    {
      "cell_type": "code",
      "execution_count": null,
      "metadata": {
        "id": "hxH4-YDBcPgJ",
        "colab": {
          "base_uri": "https://localhost:8080/"
        },
        "outputId": "82d208f8-a195-4a3c-f013-80ec3608ccb3"
      },
      "outputs": [
        {
          "output_type": "stream",
          "name": "stdout",
          "text": [
            "10/10 [==============================] - 145s 16s/step - loss: 0.4653 - accuracy: 0.8763\n"
          ]
        }
      ],
      "source": [
        "test_loss, test_accuracy = model.evaluate(test_generator, steps=test_steps_per_epoch)"
      ]
    },
    {
      "cell_type": "markdown",
      "metadata": {
        "id": "ljq2SVe_cSLR"
      },
      "source": [
        "# Print test loss and accuracy\n"
      ]
    },
    {
      "cell_type": "code",
      "execution_count": null,
      "metadata": {
        "id": "AXoCrDoxc8Im",
        "colab": {
          "base_uri": "https://localhost:8080/"
        },
        "outputId": "6fe7ae10-d0ae-43e5-9c4a-5becfb10ae2c"
      },
      "outputs": [
        {
          "output_type": "stream",
          "name": "stdout",
          "text": [
            "Test loss: 0.4653142988681793\n",
            "Test accuracy: 0.876288652420044\n"
          ]
        }
      ],
      "source": [
        "print('Test loss:', test_loss)\n",
        "print('Test accuracy:', test_accuracy)"
      ]
    },
    {
      "cell_type": "markdown",
      "metadata": {
        "id": "N6-RB-RpdEKN"
      },
      "source": [
        "# Plot the loss and accuracy values over time"
      ]
    },
    {
      "cell_type": "code",
      "execution_count": null,
      "metadata": {
        "id": "IU-pmbkBdJr6",
        "colab": {
          "base_uri": "https://localhost:8080/",
          "height": 391
        },
        "outputId": "b2e7b23b-6c0a-48eb-f347-1b5cf7ed5c1c"
      },
      "outputs": [
        {
          "output_type": "display_data",
          "data": {
            "text/plain": [
              "<Figure size 1200x400 with 2 Axes>"
            ],
            "image/png": "[encoded data removed]"
          },
          "metadata": {}
        }
      ],
      "source": [
        "plt.figure(figsize=(12, 4))\n",
        "\n",
        "plt.subplot(1, 2, 1)\n",
        "plt.plot(history.history['loss'], label='Training Loss')\n",
        "plt.plot(history.history['val_loss'], label='Validation Loss')\n",
        "plt.legend()\n",
        "plt.title('Loss Over Time')\n",
        "\n",
        "plt.subplot(1, 2, 2)\n",
        "plt.plot(history.history['accuracy'], label='Training Accuracy')\n",
        "plt.plot(history.history['val_accuracy'], label='Validation Accuracy')\n",
        "plt.legend()\n",
        "plt.title('Accuracy Over Time')\n",
        "\n",
        "plt.show()"
      ]
    },
    {
      "cell_type": "markdown",
      "source": [
        "# Print the test class Labels and indexes"
      ],
      "metadata": {
        "id": "t-wxQAC4xssP"
      }
    },
    {
      "cell_type": "code",
      "source": [
        "# Print class labels with their indexes\n",
        "for label, index in test_generator.class_indices.items():\n",
        "    print(f\"Class label: {label}, Index: {index}\")"
      ],
      "metadata": {
        "id": "qvBK1Ioaxz_6",
        "colab": {
          "base_uri": "https://localhost:8080/"
        },
        "outputId": "38576956-c619-4888-e41e-0e6c3a989805"
      },
      "execution_count": null,
      "outputs": [
        {
          "output_type": "stream",
          "name": "stdout",
          "text": [
            "Class label: NORMAL, Index: 0\n",
            "Class label: PNEUMONIA, Index: 1\n"
          ]
        }
      ]
    },
    {
      "cell_type": "markdown",
      "metadata": {
        "id": "LSdx0VdKfWUX"
      },
      "source": [
        "# Classification Report"
      ]
    },
    {
      "cell_type": "code",
      "execution_count": null,
      "metadata": {
        "id": "EtTCm9AzvvsM",
        "colab": {
          "base_uri": "https://localhost:8080/"
        },
        "outputId": "c68a8821-f1b9-46f6-c900-74d6fd5851e2"
      },
      "outputs": [
        {
          "output_type": "stream",
          "name": "stdout",
          "text": [
            "10/10 [==============================] - 5s 471ms/step\n",
            "              precision    recall  f1-score    support\n",
            "0              0.344371  0.304094  0.322981  171.00000\n",
            "1              0.723898  0.759124  0.741093  411.00000\n",
            "accuracy       0.625430  0.625430  0.625430    0.62543\n",
            "macro avg      0.534134  0.531609  0.532037  582.00000\n",
            "weighted avg   0.612387  0.625430  0.618246  582.00000\n"
          ]
        }
      ],
      "source": [
        "# Predict the classes\n",
        "y_pred = model.predict(test_generator, steps=test_steps_per_epoch)\n",
        "\n",
        "# Convert predictions to binary\n",
        "y_pred_binary = np.where(y_pred > 0.5, 1, 0)\n",
        "\n",
        "# Get the true labels\n",
        "y_true = test_generator.classes\n",
        "\n",
        "# Calculate precision, recall, f1-score, and support\n",
        "report = classification_report(y_true, y_pred_binary, output_dict=True)\n",
        "\n",
        "#  Convert to DataFrame\n",
        "report_df = pd.DataFrame(report).transpose()\n",
        "\n",
        "print(report_df)"
      ]
    }
  ],
  "metadata": {
    "accelerator": "GPU",
    "colab": {
      "gpuType": "T4",
      "provenance": [],
      "machine_shape": "hm",
      "mount_file_id": "1xJdKUo79eatsTa1r5t60kv1WLxopZJ8g",
      "authorship_tag": "ABX9TyPLJTq3qSqp5NPzYNu5FC91",
      "include_colab_link": true
    },
    "kernelspec": {
      "display_name": "Python 3",
      "name": "python3"
    },
    "language_info": {
      "name": "python"
    }
  },
  "nbformat": 4,
  "nbformat_minor": 0
}